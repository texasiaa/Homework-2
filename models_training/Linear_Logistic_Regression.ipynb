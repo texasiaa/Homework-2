{
 "cells": [
  {
   "cell_type": "code",
   "execution_count": 1,
   "id": "a317a0da-a9ee-4372-8db8-cd33c0eeb2b8",
   "metadata": {},
   "outputs": [],
   "source": [
    "import matplotlib.pyplot as plt\n",
    "import pandas as pd\n",
    "import numpy as np\n",
    "import ast\n",
    "from scipy.sparse import csr_matrix\n",
    "import scipy.sparse as sp\n",
    "from sklearn.feature_extraction.text import TfidfVectorizer\n",
    "from sklearn.model_selection import train_test_split\n",
    "from sklearn.model_selection import TimeSeriesSplit\n",
    "from sklearn.linear_model import LogisticRegression\n",
    "from sklearn.metrics import classification_report\n",
    "from sklearn.metrics import confusion_matrix, precision_recall_curve\n",
    "from sklearn.metrics import mean_absolute_error, mean_squared_error, r2_score\n",
    "from sklearn.metrics import confusion_matrix, ConfusionMatrixDisplay\n",
    "from sklearn.linear_model import LinearRegression\n",
    "from sklearn.metrics import roc_curve, auc"
   ]
  },
  {
   "cell_type": "code",
   "execution_count": 2,
   "id": "2e89e433-6802-498d-90d1-4d3f38dd34e6",
   "metadata": {},
   "outputs": [],
   "source": [
    "data = pd.read_json('data.json', lines=True)\n",
    "kyiv_df = df1 = pd.read_csv('kyiv_dataset.csv')"
   ]
  },
  {
   "cell_type": "code",
   "execution_count": 3,
   "id": "71b0c0c3-2351-41f9-acfd-fb1f34de710a",
   "metadata": {},
   "outputs": [
    {
     "data": {
      "text/html": [
       "<div>\n",
       "<style scoped>\n",
       "    .dataframe tbody tr th:only-of-type {\n",
       "        vertical-align: middle;\n",
       "    }\n",
       "\n",
       "    .dataframe tbody tr th {\n",
       "        vertical-align: top;\n",
       "    }\n",
       "\n",
       "    .dataframe thead th {\n",
       "        text-align: right;\n",
       "    }\n",
       "</style>\n",
       "<table border=\"1\" class=\"dataframe\">\n",
       "  <thead>\n",
       "    <tr style=\"text-align: right;\">\n",
       "      <th></th>\n",
       "      <th>Unnamed: 0.1</th>\n",
       "      <th>Unnamed: 0</th>\n",
       "      <th>day_tempmax</th>\n",
       "      <th>day_tempmin</th>\n",
       "      <th>day_temp</th>\n",
       "      <th>day_dew</th>\n",
       "      <th>day_humidity</th>\n",
       "      <th>day_precip</th>\n",
       "      <th>day_precipcover</th>\n",
       "      <th>day_snow</th>\n",
       "      <th>...</th>\n",
       "      <th>hour_pressure</th>\n",
       "      <th>hour_visibility</th>\n",
       "      <th>hour_cloudcover</th>\n",
       "      <th>hour_solarradiation</th>\n",
       "      <th>hour_uvindex</th>\n",
       "      <th>hour_severerisk</th>\n",
       "      <th>region_id_x</th>\n",
       "      <th>tf-idf</th>\n",
       "      <th>alarm</th>\n",
       "      <th>datetime_combined</th>\n",
       "    </tr>\n",
       "  </thead>\n",
       "  <tbody>\n",
       "    <tr>\n",
       "      <th>0</th>\n",
       "      <td>25866</td>\n",
       "      <td>25866</td>\n",
       "      <td>5.3</td>\n",
       "      <td>1.9</td>\n",
       "      <td>2.9</td>\n",
       "      <td>1.2</td>\n",
       "      <td>88.9</td>\n",
       "      <td>0.1</td>\n",
       "      <td>4.17</td>\n",
       "      <td>0.0</td>\n",
       "      <td>...</td>\n",
       "      <td>1017.9</td>\n",
       "      <td>9.9</td>\n",
       "      <td>99.3</td>\n",
       "      <td>0.0</td>\n",
       "      <td>0.0</td>\n",
       "      <td>10.0</td>\n",
       "      <td>10</td>\n",
       "      <td>{'abachev': 0, 'abandon': 0, 'abandoned': 0, '...</td>\n",
       "      <td>0</td>\n",
       "      <td>2022-02-24 00:00:00</td>\n",
       "    </tr>\n",
       "    <tr>\n",
       "      <th>1</th>\n",
       "      <td>25867</td>\n",
       "      <td>25867</td>\n",
       "      <td>5.3</td>\n",
       "      <td>1.9</td>\n",
       "      <td>2.9</td>\n",
       "      <td>1.2</td>\n",
       "      <td>88.9</td>\n",
       "      <td>0.1</td>\n",
       "      <td>4.17</td>\n",
       "      <td>0.0</td>\n",
       "      <td>...</td>\n",
       "      <td>1018.0</td>\n",
       "      <td>9.8</td>\n",
       "      <td>99.7</td>\n",
       "      <td>0.0</td>\n",
       "      <td>0.0</td>\n",
       "      <td>10.0</td>\n",
       "      <td>10</td>\n",
       "      <td>{'abachev': 0, 'abandon': 0, 'abandoned': 0, '...</td>\n",
       "      <td>0</td>\n",
       "      <td>2022-02-24 01:00:00</td>\n",
       "    </tr>\n",
       "    <tr>\n",
       "      <th>2</th>\n",
       "      <td>25868</td>\n",
       "      <td>25868</td>\n",
       "      <td>5.3</td>\n",
       "      <td>1.9</td>\n",
       "      <td>2.9</td>\n",
       "      <td>1.2</td>\n",
       "      <td>88.9</td>\n",
       "      <td>0.1</td>\n",
       "      <td>4.17</td>\n",
       "      <td>0.0</td>\n",
       "      <td>...</td>\n",
       "      <td>1018.1</td>\n",
       "      <td>9.0</td>\n",
       "      <td>99.7</td>\n",
       "      <td>0.0</td>\n",
       "      <td>0.0</td>\n",
       "      <td>10.0</td>\n",
       "      <td>10</td>\n",
       "      <td>{'abachev': 0, 'abandon': 0, 'abandoned': 0, '...</td>\n",
       "      <td>0</td>\n",
       "      <td>2022-02-24 02:00:00</td>\n",
       "    </tr>\n",
       "    <tr>\n",
       "      <th>3</th>\n",
       "      <td>25869</td>\n",
       "      <td>25869</td>\n",
       "      <td>5.3</td>\n",
       "      <td>1.9</td>\n",
       "      <td>2.9</td>\n",
       "      <td>1.2</td>\n",
       "      <td>88.9</td>\n",
       "      <td>0.1</td>\n",
       "      <td>4.17</td>\n",
       "      <td>0.0</td>\n",
       "      <td>...</td>\n",
       "      <td>1018.9</td>\n",
       "      <td>8.1</td>\n",
       "      <td>97.8</td>\n",
       "      <td>0.0</td>\n",
       "      <td>0.0</td>\n",
       "      <td>10.0</td>\n",
       "      <td>10</td>\n",
       "      <td>{'abachev': 0, 'abandon': 0, 'abandoned': 0, '...</td>\n",
       "      <td>0</td>\n",
       "      <td>2022-02-24 03:00:00</td>\n",
       "    </tr>\n",
       "    <tr>\n",
       "      <th>4</th>\n",
       "      <td>25870</td>\n",
       "      <td>25870</td>\n",
       "      <td>5.3</td>\n",
       "      <td>1.9</td>\n",
       "      <td>2.9</td>\n",
       "      <td>1.2</td>\n",
       "      <td>88.9</td>\n",
       "      <td>0.1</td>\n",
       "      <td>4.17</td>\n",
       "      <td>0.0</td>\n",
       "      <td>...</td>\n",
       "      <td>1019.0</td>\n",
       "      <td>7.0</td>\n",
       "      <td>98.7</td>\n",
       "      <td>0.0</td>\n",
       "      <td>0.0</td>\n",
       "      <td>10.0</td>\n",
       "      <td>10</td>\n",
       "      <td>{'abachev': 0, 'abandon': 0, 'abandoned': 0, '...</td>\n",
       "      <td>0</td>\n",
       "      <td>2022-02-24 04:00:00</td>\n",
       "    </tr>\n",
       "  </tbody>\n",
       "</table>\n",
       "<p>5 rows × 40 columns</p>\n",
       "</div>"
      ],
      "text/plain": [
       "   Unnamed: 0.1  Unnamed: 0  day_tempmax  day_tempmin  day_temp  day_dew  \\\n",
       "0         25866       25866          5.3          1.9       2.9      1.2   \n",
       "1         25867       25867          5.3          1.9       2.9      1.2   \n",
       "2         25868       25868          5.3          1.9       2.9      1.2   \n",
       "3         25869       25869          5.3          1.9       2.9      1.2   \n",
       "4         25870       25870          5.3          1.9       2.9      1.2   \n",
       "\n",
       "   day_humidity  day_precip  day_precipcover  day_snow  ...  hour_pressure  \\\n",
       "0          88.9         0.1             4.17       0.0  ...         1017.9   \n",
       "1          88.9         0.1             4.17       0.0  ...         1018.0   \n",
       "2          88.9         0.1             4.17       0.0  ...         1018.1   \n",
       "3          88.9         0.1             4.17       0.0  ...         1018.9   \n",
       "4          88.9         0.1             4.17       0.0  ...         1019.0   \n",
       "\n",
       "   hour_visibility  hour_cloudcover  hour_solarradiation  hour_uvindex  \\\n",
       "0              9.9             99.3                  0.0           0.0   \n",
       "1              9.8             99.7                  0.0           0.0   \n",
       "2              9.0             99.7                  0.0           0.0   \n",
       "3              8.1             97.8                  0.0           0.0   \n",
       "4              7.0             98.7                  0.0           0.0   \n",
       "\n",
       "   hour_severerisk  region_id_x  \\\n",
       "0             10.0           10   \n",
       "1             10.0           10   \n",
       "2             10.0           10   \n",
       "3             10.0           10   \n",
       "4             10.0           10   \n",
       "\n",
       "                                              tf-idf  alarm  \\\n",
       "0  {'abachev': 0, 'abandon': 0, 'abandoned': 0, '...      0   \n",
       "1  {'abachev': 0, 'abandon': 0, 'abandoned': 0, '...      0   \n",
       "2  {'abachev': 0, 'abandon': 0, 'abandoned': 0, '...      0   \n",
       "3  {'abachev': 0, 'abandon': 0, 'abandoned': 0, '...      0   \n",
       "4  {'abachev': 0, 'abandon': 0, 'abandoned': 0, '...      0   \n",
       "\n",
       "     datetime_combined  \n",
       "0  2022-02-24 00:00:00  \n",
       "1  2022-02-24 01:00:00  \n",
       "2  2022-02-24 02:00:00  \n",
       "3  2022-02-24 03:00:00  \n",
       "4  2022-02-24 04:00:00  \n",
       "\n",
       "[5 rows x 40 columns]"
      ]
     },
     "execution_count": 3,
     "metadata": {},
     "output_type": "execute_result"
    }
   ],
   "source": [
    "kyiv_df.head(5)"
   ]
  },
  {
   "cell_type": "code",
   "execution_count": 4,
   "id": "343ed644-af07-449e-a1bc-e239f14c5c74",
   "metadata": {},
   "outputs": [
    {
     "data": {
      "text/html": [
       "<div>\n",
       "<style scoped>\n",
       "    .dataframe tbody tr th:only-of-type {\n",
       "        vertical-align: middle;\n",
       "    }\n",
       "\n",
       "    .dataframe tbody tr th {\n",
       "        vertical-align: top;\n",
       "    }\n",
       "\n",
       "    .dataframe thead th {\n",
       "        text-align: right;\n",
       "    }\n",
       "</style>\n",
       "<table border=\"1\" class=\"dataframe\">\n",
       "  <thead>\n",
       "    <tr style=\"text-align: right;\">\n",
       "      <th></th>\n",
       "      <th>Unnamed: 0.1</th>\n",
       "      <th>Unnamed: 0</th>\n",
       "      <th>day_tempmax</th>\n",
       "      <th>day_tempmin</th>\n",
       "      <th>day_temp</th>\n",
       "      <th>day_dew</th>\n",
       "      <th>day_humidity</th>\n",
       "      <th>day_precip</th>\n",
       "      <th>day_precipcover</th>\n",
       "      <th>day_snow</th>\n",
       "      <th>...</th>\n",
       "      <th>hour_cloudcover</th>\n",
       "      <th>hour_solarradiation</th>\n",
       "      <th>hour_uvindex</th>\n",
       "      <th>hour_severerisk</th>\n",
       "      <th>region_id_x</th>\n",
       "      <th>tf-idf</th>\n",
       "      <th>alarm</th>\n",
       "      <th>datetime_combined</th>\n",
       "      <th>date</th>\n",
       "      <th>lemmatized_text</th>\n",
       "    </tr>\n",
       "  </thead>\n",
       "  <tbody>\n",
       "    <tr>\n",
       "      <th>0</th>\n",
       "      <td>25866</td>\n",
       "      <td>25866</td>\n",
       "      <td>5.3</td>\n",
       "      <td>1.9</td>\n",
       "      <td>2.9</td>\n",
       "      <td>1.2</td>\n",
       "      <td>88.9</td>\n",
       "      <td>0.1</td>\n",
       "      <td>4.17</td>\n",
       "      <td>0.0</td>\n",
       "      <td>...</td>\n",
       "      <td>99.3</td>\n",
       "      <td>0.0</td>\n",
       "      <td>0.0</td>\n",
       "      <td>10.0</td>\n",
       "      <td>10</td>\n",
       "      <td>{'abachev': 0, 'abandon': 0, 'abandoned': 0, '...</td>\n",
       "      <td>0</td>\n",
       "      <td>2022-02-24 00:00:00</td>\n",
       "      <td>2022-02-24</td>\n",
       "      <td>[mason, clark, george, barros, kateryna, stepa...</td>\n",
       "    </tr>\n",
       "    <tr>\n",
       "      <th>1</th>\n",
       "      <td>25867</td>\n",
       "      <td>25867</td>\n",
       "      <td>5.3</td>\n",
       "      <td>1.9</td>\n",
       "      <td>2.9</td>\n",
       "      <td>1.2</td>\n",
       "      <td>88.9</td>\n",
       "      <td>0.1</td>\n",
       "      <td>4.17</td>\n",
       "      <td>0.0</td>\n",
       "      <td>...</td>\n",
       "      <td>99.7</td>\n",
       "      <td>0.0</td>\n",
       "      <td>0.0</td>\n",
       "      <td>10.0</td>\n",
       "      <td>10</td>\n",
       "      <td>{'abachev': 0, 'abandon': 0, 'abandoned': 0, '...</td>\n",
       "      <td>0</td>\n",
       "      <td>2022-02-24 01:00:00</td>\n",
       "      <td>2022-02-24</td>\n",
       "      <td>[mason, clark, george, barros, kateryna, stepa...</td>\n",
       "    </tr>\n",
       "    <tr>\n",
       "      <th>2</th>\n",
       "      <td>25868</td>\n",
       "      <td>25868</td>\n",
       "      <td>5.3</td>\n",
       "      <td>1.9</td>\n",
       "      <td>2.9</td>\n",
       "      <td>1.2</td>\n",
       "      <td>88.9</td>\n",
       "      <td>0.1</td>\n",
       "      <td>4.17</td>\n",
       "      <td>0.0</td>\n",
       "      <td>...</td>\n",
       "      <td>99.7</td>\n",
       "      <td>0.0</td>\n",
       "      <td>0.0</td>\n",
       "      <td>10.0</td>\n",
       "      <td>10</td>\n",
       "      <td>{'abachev': 0, 'abandon': 0, 'abandoned': 0, '...</td>\n",
       "      <td>0</td>\n",
       "      <td>2022-02-24 02:00:00</td>\n",
       "      <td>2022-02-24</td>\n",
       "      <td>[mason, clark, george, barros, kateryna, stepa...</td>\n",
       "    </tr>\n",
       "    <tr>\n",
       "      <th>3</th>\n",
       "      <td>25869</td>\n",
       "      <td>25869</td>\n",
       "      <td>5.3</td>\n",
       "      <td>1.9</td>\n",
       "      <td>2.9</td>\n",
       "      <td>1.2</td>\n",
       "      <td>88.9</td>\n",
       "      <td>0.1</td>\n",
       "      <td>4.17</td>\n",
       "      <td>0.0</td>\n",
       "      <td>...</td>\n",
       "      <td>97.8</td>\n",
       "      <td>0.0</td>\n",
       "      <td>0.0</td>\n",
       "      <td>10.0</td>\n",
       "      <td>10</td>\n",
       "      <td>{'abachev': 0, 'abandon': 0, 'abandoned': 0, '...</td>\n",
       "      <td>0</td>\n",
       "      <td>2022-02-24 03:00:00</td>\n",
       "      <td>2022-02-24</td>\n",
       "      <td>[mason, clark, george, barros, kateryna, stepa...</td>\n",
       "    </tr>\n",
       "    <tr>\n",
       "      <th>4</th>\n",
       "      <td>25870</td>\n",
       "      <td>25870</td>\n",
       "      <td>5.3</td>\n",
       "      <td>1.9</td>\n",
       "      <td>2.9</td>\n",
       "      <td>1.2</td>\n",
       "      <td>88.9</td>\n",
       "      <td>0.1</td>\n",
       "      <td>4.17</td>\n",
       "      <td>0.0</td>\n",
       "      <td>...</td>\n",
       "      <td>98.7</td>\n",
       "      <td>0.0</td>\n",
       "      <td>0.0</td>\n",
       "      <td>10.0</td>\n",
       "      <td>10</td>\n",
       "      <td>{'abachev': 0, 'abandon': 0, 'abandoned': 0, '...</td>\n",
       "      <td>0</td>\n",
       "      <td>2022-02-24 04:00:00</td>\n",
       "      <td>2022-02-24</td>\n",
       "      <td>[mason, clark, george, barros, kateryna, stepa...</td>\n",
       "    </tr>\n",
       "  </tbody>\n",
       "</table>\n",
       "<p>5 rows × 42 columns</p>\n",
       "</div>"
      ],
      "text/plain": [
       "   Unnamed: 0.1  Unnamed: 0  day_tempmax  day_tempmin  day_temp  day_dew  \\\n",
       "0         25866       25866          5.3          1.9       2.9      1.2   \n",
       "1         25867       25867          5.3          1.9       2.9      1.2   \n",
       "2         25868       25868          5.3          1.9       2.9      1.2   \n",
       "3         25869       25869          5.3          1.9       2.9      1.2   \n",
       "4         25870       25870          5.3          1.9       2.9      1.2   \n",
       "\n",
       "   day_humidity  day_precip  day_precipcover  day_snow  ...  hour_cloudcover  \\\n",
       "0          88.9         0.1             4.17       0.0  ...             99.3   \n",
       "1          88.9         0.1             4.17       0.0  ...             99.7   \n",
       "2          88.9         0.1             4.17       0.0  ...             99.7   \n",
       "3          88.9         0.1             4.17       0.0  ...             97.8   \n",
       "4          88.9         0.1             4.17       0.0  ...             98.7   \n",
       "\n",
       "   hour_solarradiation  hour_uvindex  hour_severerisk  region_id_x  \\\n",
       "0                  0.0           0.0             10.0           10   \n",
       "1                  0.0           0.0             10.0           10   \n",
       "2                  0.0           0.0             10.0           10   \n",
       "3                  0.0           0.0             10.0           10   \n",
       "4                  0.0           0.0             10.0           10   \n",
       "\n",
       "                                              tf-idf  alarm  \\\n",
       "0  {'abachev': 0, 'abandon': 0, 'abandoned': 0, '...      0   \n",
       "1  {'abachev': 0, 'abandon': 0, 'abandoned': 0, '...      0   \n",
       "2  {'abachev': 0, 'abandon': 0, 'abandoned': 0, '...      0   \n",
       "3  {'abachev': 0, 'abandon': 0, 'abandoned': 0, '...      0   \n",
       "4  {'abachev': 0, 'abandon': 0, 'abandoned': 0, '...      0   \n",
       "\n",
       "     datetime_combined        date  \\\n",
       "0  2022-02-24 00:00:00  2022-02-24   \n",
       "1  2022-02-24 01:00:00  2022-02-24   \n",
       "2  2022-02-24 02:00:00  2022-02-24   \n",
       "3  2022-02-24 03:00:00  2022-02-24   \n",
       "4  2022-02-24 04:00:00  2022-02-24   \n",
       "\n",
       "                                     lemmatized_text  \n",
       "0  [mason, clark, george, barros, kateryna, stepa...  \n",
       "1  [mason, clark, george, barros, kateryna, stepa...  \n",
       "2  [mason, clark, george, barros, kateryna, stepa...  \n",
       "3  [mason, clark, george, barros, kateryna, stepa...  \n",
       "4  [mason, clark, george, barros, kateryna, stepa...  \n",
       "\n",
       "[5 rows x 42 columns]"
      ]
     },
     "execution_count": 4,
     "metadata": {},
     "output_type": "execute_result"
    }
   ],
   "source": [
    "kyiv_df1 = kyiv_df.copy()\n",
    "kyiv_df1 = kyiv_df1.drop_duplicates(subset=['datetime_combined'])\n",
    "kyiv_df1 = kyiv_df1.dropna(subset=['datetime_combined'])\n",
    "kyiv_df1['date'] = pd.to_datetime(kyiv_df1['datetime_combined']).dt.date\n",
    "data['date'] = pd.to_datetime(data['date']).dt.date\n",
    "\n",
    "kyiv_df1 = kyiv_df1[kyiv_df1['date'].isin(data['date'])]\n",
    "weather_alarms = pd.merge(kyiv_df1, data, on='date', how='inner')\n",
    "weather_alarms.head()"
   ]
  },
  {
   "cell_type": "code",
   "execution_count": 5,
   "id": "a4fc7813-e64b-4848-9417-29b7e3c0bcb3",
   "metadata": {},
   "outputs": [
    {
     "data": {
      "text/plain": [
       "(7799, 34)"
      ]
     },
     "execution_count": 5,
     "metadata": {},
     "output_type": "execute_result"
    }
   ],
   "source": [
    "# turning weather into matrix\n",
    "weather = weather_alarms.copy()\n",
    "columns_to_drop = ['Unnamed: 0.1', 'Unnamed: 0', 'region_id_x', 'datetime_combined', 'alarm', 'tf-idf', 'date', 'lemmatized_text']\n",
    "weather.drop(columns=columns_to_drop, inplace=True)\n",
    "weather = weather.fillna(0)\n",
    "\n",
    "weather_matrix = weather.to_numpy()\n",
    "weather_matrix\n",
    "sparse_weather = csr_matrix(weather_matrix)\n",
    "sparse_weather.shape"
   ]
  },
  {
   "cell_type": "code",
   "execution_count": 6,
   "id": "b7ef3796-05df-490c-a4ad-3012e168edb2",
   "metadata": {},
   "outputs": [
    {
     "data": {
      "text/plain": [
       "(7799, 6112)"
      ]
     },
     "execution_count": 6,
     "metadata": {},
     "output_type": "execute_result"
    }
   ],
   "source": [
    "# transformation to matrix with all words\n",
    "lemmatized_text_str = weather_alarms['lemmatized_text'].apply(lambda x: ' '.join(x))\n",
    "# remove words which are less then in three reports\n",
    "tfidf_vectorizer = TfidfVectorizer(min_df=72)\n",
    "tfidf_matrix = tfidf_vectorizer.fit_transform(lemmatized_text_str)\n",
    "\n",
    "tfidf_matrix.shape"
   ]
  },
  {
   "cell_type": "code",
   "execution_count": 7,
   "id": "5448563b-9c2b-4ccf-8b95-25b16c7a172f",
   "metadata": {},
   "outputs": [
    {
     "data": {
      "text/plain": [
       "(7799, 6146)"
      ]
     },
     "execution_count": 7,
     "metadata": {},
     "output_type": "execute_result"
    }
   ],
   "source": [
    "# merge weather matrix with words matrix\n",
    "combine_matrix = sp.hstack((tfidf_matrix, sparse_weather))\n",
    "combine_matrix.shape"
   ]
  },
  {
   "cell_type": "markdown",
   "id": "eb7dc689-31b6-4742-b16f-2ee133f68749",
   "metadata": {},
   "source": [
    "# Separate the dataset using simple technic 80/20%"
   ]
  },
  {
   "cell_type": "markdown",
   "id": "d11ceddb-809f-4043-b404-716e9e968b43",
   "metadata": {},
   "source": [
    "## Linear Regression:"
   ]
  },
  {
   "cell_type": "code",
   "execution_count": 8,
   "id": "70a01461-55e2-4ce0-8395-1f097ba04c55",
   "metadata": {},
   "outputs": [
    {
     "name": "stdout",
     "output_type": "stream",
     "text": [
      "              precision    recall  f1-score   support\n",
      "\n",
      "           0       0.84      0.94      0.89      1196\n",
      "           1       0.68      0.39      0.50       364\n",
      "\n",
      "    accuracy                           0.82      1560\n",
      "   macro avg       0.76      0.67      0.69      1560\n",
      "weighted avg       0.80      0.82      0.80      1560\n",
      "\n",
      "Confusion Matrix:\n",
      "[[1129   67]\n",
      " [ 221  143]]\n"
     ]
    },
    {
     "data": {
      "image/png": "[encoded data removed]",
      "text/plain": [
       "<Figure size 640x480 with 2 Axes>"
      ]
     },
     "metadata": {},
     "output_type": "display_data"
    }
   ],
   "source": [
    "labels = weather_alarms['alarm']\n",
    "\n",
    "X_train_1, X_test_1, y_train_1, y_test_1 = train_test_split(combine_matrix, labels, test_size=0.20, random_state=42)\n",
    "lin_1 = LinearRegression()\n",
    "lin_1.fit(X_train_1, y_train_1)\n",
    "\n",
    "y_pred_1 = lin_1.predict(X_test_1)    \n",
    "y_pred_binary_1 = (y_pred_1 > 0.5).astype(int)\n",
    "print(classification_report(y_test_1, y_pred_binary_1))\n",
    "\n",
    "cm_1 = confusion_matrix(y_test_1, y_pred_binary_1)\n",
    "print(\"Confusion Matrix:\")\n",
    "print(cm_1)\n",
    "disp = ConfusionMatrixDisplay(confusion_matrix=cm_1, display_labels=['Not Alarm', 'Alarm'])\n",
    "disp.plot()\n",
    "plt.show()"
   ]
  },
  {
   "cell_type": "markdown",
   "id": "8863c2c6-c6c8-444e-839a-4144eb38e212",
   "metadata": {},
   "source": [
    "## Logistic Regression:"
   ]
  },
  {
   "cell_type": "code",
   "execution_count": 10,
   "id": "42d0decf-d927-4e17-9ff0-0b866a96319f",
   "metadata": {},
   "outputs": [
    {
     "name": "stdout",
     "output_type": "stream",
     "text": [
      "              precision    recall  f1-score   support\n",
      "\n",
      "           0       0.81      0.97      0.88      1196\n",
      "           1       0.72      0.24      0.36       364\n",
      "\n",
      "    accuracy                           0.80      1560\n",
      "   macro avg       0.76      0.61      0.62      1560\n",
      "weighted avg       0.79      0.80      0.76      1560\n",
      "\n"
     ]
    },
    {
     "name": "stderr",
     "output_type": "stream",
     "text": [
      "C:\\Users\\User\\AppData\\Roaming\\Python\\Python38\\site-packages\\sklearn\\linear_model\\_logistic.py:460: ConvergenceWarning: lbfgs failed to converge (status=1):\n",
      "STOP: TOTAL NO. of ITERATIONS REACHED LIMIT.\n",
      "\n",
      "Increase the number of iterations (max_iter) or scale the data as shown in:\n",
      "    https://scikit-learn.org/stable/modules/preprocessing.html\n",
      "Please also refer to the documentation for alternative solver options:\n",
      "    https://scikit-learn.org/stable/modules/linear_model.html#logistic-regression\n",
      "  n_iter_i = _check_optimize_result(\n"
     ]
    },
    {
     "data": {
      "image/png": "[encoded data removed]",
      "text/plain": [
       "<Figure size 640x480 with 2 Axes>"
      ]
     },
     "metadata": {},
     "output_type": "display_data"
    }
   ],
   "source": [
    "labels = weather_alarms['alarm']\n",
    "\n",
    "X_train_3, X_test_3, y_train_3, y_test_3 = train_test_split(combine_matrix, labels, test_size=0.20, random_state=42)\n",
    "\n",
    "log_1 = LogisticRegression(max_iter=1000)\n",
    "log_1.fit(X_train_3, y_train_3)\n",
    "\n",
    "y_pred_3 = log_1.predict(X_test_3)\n",
    "print(classification_report(y_test_3, y_pred_3))\n",
    "\n",
    "cm_3 = confusion_matrix(y_test_3, y_pred_3)\n",
    "disp = ConfusionMatrixDisplay(confusion_matrix=cm_3, display_labels=['Not Alarm', 'Alarm'])\n",
    "disp.plot()\n",
    "plt.show()"
   ]
  },
  {
   "cell_type": "markdown",
   "id": "d72c0a5f-3b2c-446e-b0ec-caec96436925",
   "metadata": {},
   "source": [
    "# Separate the dataset using TimeSeries metod:"
   ]
  },
  {
   "cell_type": "markdown",
   "id": "aa51c6fd-baee-4ccb-a309-0ef05ee625f7",
   "metadata": {},
   "source": [
    "## Linear Regression:"
   ]
  },
  {
   "cell_type": "code",
   "execution_count": 11,
   "id": "1d898ccd-bc6e-4a6b-b392-63e6b66a8e1e",
   "metadata": {},
   "outputs": [
    {
     "name": "stdout",
     "output_type": "stream",
     "text": [
      "              precision    recall  f1-score   support\n",
      "\n",
      "           0       0.80      0.76      0.78      1583\n",
      "           1       0.14      0.16      0.15       366\n",
      "\n",
      "    accuracy                           0.65      1949\n",
      "   macro avg       0.47      0.46      0.46      1949\n",
      "weighted avg       0.67      0.65      0.66      1949\n",
      "\n"
     ]
    },
    {
     "name": "stderr",
     "output_type": "stream",
     "text": [
      "C:\\Users\\User\\AppData\\Roaming\\Python\\Python38\\site-packages\\sklearn\\metrics\\_classification.py:1471: UndefinedMetricWarning: Precision and F-score are ill-defined and being set to 0.0 in labels with no predicted samples. Use `zero_division` parameter to control this behavior.\n",
      "  _warn_prf(average, modifier, msg_start, len(result))\n",
      "C:\\Users\\User\\AppData\\Roaming\\Python\\Python38\\site-packages\\sklearn\\metrics\\_classification.py:1471: UndefinedMetricWarning: Precision and F-score are ill-defined and being set to 0.0 in labels with no predicted samples. Use `zero_division` parameter to control this behavior.\n",
      "  _warn_prf(average, modifier, msg_start, len(result))\n",
      "C:\\Users\\User\\AppData\\Roaming\\Python\\Python38\\site-packages\\sklearn\\metrics\\_classification.py:1471: UndefinedMetricWarning: Precision and F-score are ill-defined and being set to 0.0 in labels with no predicted samples. Use `zero_division` parameter to control this behavior.\n",
      "  _warn_prf(average, modifier, msg_start, len(result))\n"
     ]
    },
    {
     "name": "stdout",
     "output_type": "stream",
     "text": [
      "              precision    recall  f1-score   support\n",
      "\n",
      "           0       0.82      1.00      0.90      1595\n",
      "           1       0.00      0.00      0.00       354\n",
      "\n",
      "    accuracy                           0.82      1949\n",
      "   macro avg       0.41      0.50      0.45      1949\n",
      "weighted avg       0.67      0.82      0.74      1949\n",
      "\n",
      "              precision    recall  f1-score   support\n",
      "\n",
      "           0       0.89      1.00      0.94      1736\n",
      "           1       0.50      0.00      0.01       213\n",
      "\n",
      "    accuracy                           0.89      1949\n",
      "   macro avg       0.70      0.50      0.48      1949\n",
      "weighted avg       0.85      0.89      0.84      1949\n",
      "\n",
      "Confusion Matrix:\n",
      "[[4532  382]\n",
      " [ 872   61]]\n"
     ]
    },
    {
     "data": {
      "image/png": "[encoded data removed]",
      "text/plain": [
       "<Figure size 640x480 with 2 Axes>"
      ]
     },
     "metadata": {},
     "output_type": "display_data"
    }
   ],
   "source": [
    "labels = weather_alarms['alarm']\n",
    "tscv = TimeSeriesSplit(n_splits=3)\n",
    "\n",
    "true_labels = []\n",
    "predicted_labels = []\n",
    "\n",
    "for train_index, test_index in tscv.split(combine_matrix):\n",
    "    X_train_2, X_test_2 = combine_matrix[train_index], combine_matrix[test_index]\n",
    "    y_train_2, y_test_2 = labels.iloc[train_index], labels.iloc[test_index]\n",
    "    \n",
    "    lin_2 = LinearRegression()\n",
    "    lin_2.fit(X_train_2, y_train_2)\n",
    "    \n",
    "    y_pred_2 = lin_2.predict(X_test_2)\n",
    "    y_pred_binary_2 = (y_pred_2 > 0.5).astype(int)\n",
    "    \n",
    "    print(classification_report(y_test_2, y_pred_binary_2))\n",
    "\n",
    "    true_labels.extend(y_test_2)\n",
    "    predicted_labels.extend(y_pred_binary_2)\n",
    "\n",
    "    # cm_2 = confusion_matrix(y_test_2, y_pred_binary_2)\n",
    "    # print(\"Confusion Matrix:\")\n",
    "    # print(cm_2)\n",
    "\n",
    "cm = confusion_matrix(true_labels, predicted_labels)\n",
    "print(\"Confusion Matrix:\")\n",
    "print(cm)\n",
    "\n",
    "disp = ConfusionMatrixDisplay(confusion_matrix=cm, display_labels=['Not Alarm', 'Alarm'])\n",
    "disp.plot()\n",
    "plt.show()"
   ]
  },
  {
   "cell_type": "markdown",
   "id": "090ae625-0dea-4b83-b310-a4f4ede5edd5",
   "metadata": {},
   "source": [
    "## Logistic Regression:"
   ]
  },
  {
   "cell_type": "code",
   "execution_count": 12,
   "id": "ba3421e0-903c-4a44-8b0f-831d282d06c3",
   "metadata": {},
   "outputs": [
    {
     "name": "stderr",
     "output_type": "stream",
     "text": [
      "C:\\Users\\User\\AppData\\Roaming\\Python\\Python38\\site-packages\\sklearn\\linear_model\\_logistic.py:460: ConvergenceWarning: lbfgs failed to converge (status=1):\n",
      "STOP: TOTAL NO. of ITERATIONS REACHED LIMIT.\n",
      "\n",
      "Increase the number of iterations (max_iter) or scale the data as shown in:\n",
      "    https://scikit-learn.org/stable/modules/preprocessing.html\n",
      "Please also refer to the documentation for alternative solver options:\n",
      "    https://scikit-learn.org/stable/modules/linear_model.html#logistic-regression\n",
      "  n_iter_i = _check_optimize_result(\n"
     ]
    },
    {
     "name": "stdout",
     "output_type": "stream",
     "text": [
      "              precision    recall  f1-score   support\n",
      "\n",
      "           0       0.81      0.95      0.87      1583\n",
      "           1       0.20      0.06      0.09       366\n",
      "\n",
      "    accuracy                           0.78      1949\n",
      "   macro avg       0.51      0.50      0.48      1949\n",
      "weighted avg       0.70      0.78      0.73      1949\n",
      "\n"
     ]
    },
    {
     "name": "stderr",
     "output_type": "stream",
     "text": [
      "C:\\Users\\User\\AppData\\Roaming\\Python\\Python38\\site-packages\\sklearn\\linear_model\\_logistic.py:460: ConvergenceWarning: lbfgs failed to converge (status=1):\n",
      "STOP: TOTAL NO. of ITERATIONS REACHED LIMIT.\n",
      "\n",
      "Increase the number of iterations (max_iter) or scale the data as shown in:\n",
      "    https://scikit-learn.org/stable/modules/preprocessing.html\n",
      "Please also refer to the documentation for alternative solver options:\n",
      "    https://scikit-learn.org/stable/modules/linear_model.html#logistic-regression\n",
      "  n_iter_i = _check_optimize_result(\n"
     ]
    },
    {
     "name": "stdout",
     "output_type": "stream",
     "text": [
      "              precision    recall  f1-score   support\n",
      "\n",
      "           0       0.83      0.96      0.89      1595\n",
      "           1       0.34      0.09      0.15       354\n",
      "\n",
      "    accuracy                           0.80      1949\n",
      "   macro avg       0.58      0.53      0.52      1949\n",
      "weighted avg       0.74      0.80      0.75      1949\n",
      "\n",
      "              precision    recall  f1-score   support\n",
      "\n",
      "           0       0.87      0.41      0.56      1736\n",
      "           1       0.09      0.48      0.15       213\n",
      "\n",
      "    accuracy                           0.42      1949\n",
      "   macro avg       0.48      0.45      0.36      1949\n",
      "weighted avg       0.78      0.42      0.52      1949\n",
      "\n"
     ]
    },
    {
     "name": "stderr",
     "output_type": "stream",
     "text": [
      "C:\\Users\\User\\AppData\\Roaming\\Python\\Python38\\site-packages\\sklearn\\linear_model\\_logistic.py:460: ConvergenceWarning: lbfgs failed to converge (status=1):\n",
      "STOP: TOTAL NO. of ITERATIONS REACHED LIMIT.\n",
      "\n",
      "Increase the number of iterations (max_iter) or scale the data as shown in:\n",
      "    https://scikit-learn.org/stable/modules/preprocessing.html\n",
      "Please also refer to the documentation for alternative solver options:\n",
      "    https://scikit-learn.org/stable/modules/linear_model.html#logistic-regression\n",
      "  n_iter_i = _check_optimize_result(\n"
     ]
    },
    {
     "data": {
      "image/png": "[encoded data removed]",
      "text/plain": [
       "<Figure size 640x480 with 2 Axes>"
      ]
     },
     "metadata": {},
     "output_type": "display_data"
    }
   ],
   "source": [
    "labels = weather_alarms['alarm']\n",
    "tscv = TimeSeriesSplit(n_splits=3)\n",
    "\n",
    "true_labels = []\n",
    "predicted_labels = []\n",
    "for train_index, test_index in tscv.split(combine_matrix):\n",
    "    X_train_4, X_test_4 = combine_matrix[train_index], combine_matrix[test_index]\n",
    "    y_train_4, y_test_4 = labels.iloc[train_index], labels.iloc[test_index]\n",
    "    \n",
    "    log_2 = LogisticRegression(max_iter=1000)\n",
    "    log_2.fit(X_train_4, y_train_4)\n",
    "\n",
    "    y_pred_4 = log_2.predict(X_test_4)\n",
    "    print(classification_report(y_test_4, y_pred_4))\n",
    "\n",
    "    # cm_4 = confusion_matrix(y_test_4, y_pred_4)\n",
    "    # print(\"Confusion Matrix:\")\n",
    "    # print(cm_4)\n",
    "    \n",
    "    true_labels.extend(y_test_4)\n",
    "    predicted_labels.extend(y_pred_4)\n",
    "\n",
    "cm = confusion_matrix(true_labels, predicted_labels)\n",
    "\n",
    "disp = ConfusionMatrixDisplay(confusion_matrix=cm, display_labels=['Not Alarm', 'Alarm'])\n",
    "disp.plot()\n",
    "plt.show()"
   ]
  },
  {
   "cell_type": "markdown",
   "id": "1b620a67-4bb9-4e67-abe3-d031823d7290",
   "metadata": {},
   "source": [
    "# Top 20 features for each of models:"
   ]
  },
  {
   "cell_type": "code",
   "execution_count": 13,
   "id": "8d874f6b-0b85-4556-a21e-d274020c148f",
   "metadata": {},
   "outputs": [],
   "source": [
    "models = [log_1, log_2]\n",
    "model_names = ['Logistic Regression 1', 'Logistic Regression 2']"
   ]
  },
  {
   "cell_type": "code",
   "execution_count": 14,
   "id": "df8342de-9269-4da3-aee9-74449b331b74",
   "metadata": {},
   "outputs": [
    {
     "data": {
      "image/png": "[encoded data removed]",
      "text/plain": [
       "<Figure size 1700x1200 with 2 Axes>"
      ]
     },
     "metadata": {},
     "output_type": "display_data"
    }
   ],
   "source": [
    "plt.figure(figsize=(17, 12)) \n",
    "colors = ['#FFAF45', '#FB6D48', '#D74B76', '#673F69']\n",
    "\n",
    "for i, model in enumerate(models, 1):\n",
    "    coefficients = model.coef_[0]\n",
    "    \n",
    "    top_indices = np.argsort(np.abs(coefficients))[::-1][:20]\n",
    "    top_coefficients = coefficients[top_indices]\n",
    "\n",
    "    plt.subplot(2, 2, i) \n",
    "    plt.barh(range(len(top_indices)), top_coefficients, color=colors[i-1])\n",
    "    plt.yticks(range(len(top_indices)), top_indices)\n",
    "    plt.xlabel('Weight')\n",
    "    plt.ylabel('Feature Index')\n",
    "    plt.title(f'Top 20 Features and Their Weights ({model_names[i-1]})')\n",
    "    plt.gca().invert_yaxis()\n",
    "\n",
    "plt.tight_layout()\n",
    "plt.show()"
   ]
  }
 ],
 "metadata": {
  "kernelspec": {
   "display_name": "Python 3 (ipykernel)",
   "language": "python",
   "name": "python3"
  },
  "language_info": {
   "codemirror_mode": {
    "name": "ipython",
    "version": 3
   },
   "file_extension": ".py",
   "mimetype": "text/x-python",
   "name": "python",
   "nbconvert_exporter": "python",
   "pygments_lexer": "ipython3",
   "version": "3.8.2"
  }
 },
 "nbformat": 4,
 "nbformat_minor": 5
}
