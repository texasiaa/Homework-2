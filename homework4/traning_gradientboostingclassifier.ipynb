{
 "cells": [
  {
   "cell_type": "code",
   "execution_count": 1,
   "id": "b3d837d2-5b74-408f-8db7-8d63f6427435",
   "metadata": {},
   "outputs": [],
   "source": [
    "import matplotlib.pyplot as plt\n",
    "import pandas as pd\n",
    "import numpy as np\n",
    "import ast\n",
    "from scipy.sparse import csr_matrix\n",
    "import scipy.sparse as sp\n",
    "from sklearn.feature_extraction.text import TfidfVectorizer\n",
    "from sklearn.model_selection import train_test_split\n",
    "from sklearn.model_selection import TimeSeriesSplit\n",
    "from sklearn.linear_model import LogisticRegression\n",
    "from sklearn.metrics import classification_report\n",
    "from sklearn.metrics import confusion_matrix, precision_recall_curve\n",
    "from sklearn.metrics import mean_absolute_error, mean_squared_error, r2_score\n",
    "from sklearn.metrics import confusion_matrix, ConfusionMatrixDisplay\n",
    "from sklearn.linear_model import LinearRegression\n",
    "from sklearn.metrics import roc_curve, auc\n",
    "from sklearn.ensemble import GradientBoostingClassifier\n",
    "from sklearn.metrics import accuracy_score"
   ]
  },
  {
   "cell_type": "code",
   "execution_count": 3,
   "id": "3c740dee-d316-4208-89fd-0d2b800b0758",
   "metadata": {},
   "outputs": [],
   "source": [
    "data = pd.read_json('data.json', lines=True)\n",
    "kyiv_new = pd.read_csv('reg10_kyiv.csv')"
   ]
  },
  {
   "cell_type": "code",
   "execution_count": 4,
   "id": "db8eb51c-8d62-4784-a6ef-21f7961bc248",
   "metadata": {},
   "outputs": [
    {
     "data": {
      "text/plain": [
       "Index(['Unnamed: 0', 'day_tempmax', 'day_tempmin', 'day_temp', 'day_dew',\n",
       "       'day_humidity', 'day_precip', 'day_precipcover', 'day_snow',\n",
       "       'day_windgust', 'day_windspeed', 'day_winddir', 'day_pressure',\n",
       "       'day_cloudcover', 'day_visibility', 'day_solarradiation',\n",
       "       'day_solarenergy', 'day_uvindex', 'day_moonphase', 'hour_temp',\n",
       "       'hour_humidity', 'hour_dew', 'hour_precip', 'hour_precipprob',\n",
       "       'hour_snow', 'hour_snowdepth', 'hour_windgust', 'hour_windspeed',\n",
       "       'hour_winddir', 'hour_pressure', 'hour_visibility', 'hour_cloudcover',\n",
       "       'hour_solarradiation', 'hour_uvindex', 'hour_severerisk', 'region_id_x',\n",
       "       'tf-idf', 'alarm', 'datetime_combined', 'date', 'time', 'day_of_week',\n",
       "       'alarm_last_2hours', 'alarm_last_3hours', 'alarm_last_4hours',\n",
       "       'alarm_in_vinnytsia', 'alarm_in_zhytomyr', 'alarm_in_poltava',\n",
       "       'alarm_in_cherkasy', 'alarm_in_chernihiv'],\n",
       "      dtype='object')"
      ]
     },
     "execution_count": 4,
     "metadata": {},
     "output_type": "execute_result"
    }
   ],
   "source": [
    "#pd.set_option('display.max_rows', None)\n",
    "kyiv_new.columns\n",
    "#kyiv_new"
   ]
  },
  {
   "cell_type": "markdown",
   "id": "f6215403-f491-4f0d-8c51-1a44f3a67d0d",
   "metadata": {},
   "source": [
    "### clean dataframe "
   ]
  },
  {
   "cell_type": "code",
   "execution_count": 5,
   "id": "2c23a7bf-9ad3-487a-bec0-9ec6cfef8a66",
   "metadata": {},
   "outputs": [],
   "source": [
    "kyiv = kyiv_new.copy()\n",
    "kyiv = kyiv.drop_duplicates(subset=['datetime_combined'])\n",
    "kyiv = kyiv.dropna(subset=['datetime_combined'])"
   ]
  },
  {
   "cell_type": "markdown",
   "id": "4a01470b-85dd-4d3e-a086-604a07e54234",
   "metadata": {},
   "source": [
    "### add lemmatized text to main dataset"
   ]
  },
  {
   "cell_type": "code",
   "execution_count": 6,
   "id": "7be9cfe6-f225-45a5-b936-1b2902828115",
   "metadata": {},
   "outputs": [],
   "source": [
    "kyiv['date'] = pd.to_datetime(kyiv['date']).dt.date\n",
    "data['date'] = pd.to_datetime(data['date']).dt.date\n",
    "\n",
    "kyiv = kyiv[kyiv['date'].isin(data['date'])]\n",
    "\n",
    "weather_alarms = pd.merge(kyiv, data, on='date', how='inner')\n",
    "#weather_alarms.head(5)"
   ]
  },
  {
   "cell_type": "markdown",
   "id": "1187a80f-ea73-4d76-b84f-cc4092a92ad2",
   "metadata": {},
   "source": [
    "### drop columns and make weather sparce matrix"
   ]
  },
  {
   "cell_type": "code",
   "execution_count": 9,
   "id": "97e56d21-a990-49ae-b9a6-9aada519b06f",
   "metadata": {},
   "outputs": [],
   "source": [
    "with open('selected_columns.txt', 'r') as file:\n",
    "    selected_columns = [line.strip() for line in file]"
   ]
  },
  {
   "cell_type": "code",
   "execution_count": 10,
   "id": "ec988257-98ac-47ac-9600-881da090e5e6",
   "metadata": {},
   "outputs": [
    {
     "data": {
      "text/plain": [
       "Index(['day_tempmax', 'day_tempmin', 'day_temp', 'day_dew', 'day_humidity',\n",
       "       'day_precip', 'day_precipcover', 'day_snow', 'day_windgust',\n",
       "       'day_windspeed', 'day_winddir', 'day_pressure', 'day_cloudcover',\n",
       "       'day_visibility', 'day_solarradiation', 'day_solarenergy',\n",
       "       'day_uvindex', 'day_moonphase', 'hour_temp', 'hour_humidity',\n",
       "       'hour_dew', 'hour_precip', 'hour_precipprob', 'hour_snow',\n",
       "       'hour_snowdepth', 'hour_windgust', 'hour_windspeed', 'hour_winddir',\n",
       "       'hour_pressure', 'hour_visibility', 'hour_cloudcover',\n",
       "       'hour_solarradiation', 'hour_uvindex', 'hour_severerisk',\n",
       "       'day_of_week'],\n",
       "      dtype='object')"
      ]
     },
     "execution_count": 10,
     "metadata": {},
     "output_type": "execute_result"
    }
   ],
   "source": [
    "weather = weather_alarms.copy()\n",
    "columns_to_drop = set(weather.columns).difference(selected_columns)\n",
    "weather.drop(columns=columns_to_drop, inplace=True)\n",
    "weather = weather.fillna(0)\n",
    "weather.columns"
   ]
  },
  {
   "cell_type": "code",
   "execution_count": 11,
   "id": "9b72ce13-787f-4b84-b220-14ffd0fab8ec",
   "metadata": {},
   "outputs": [
    {
     "data": {
      "text/plain": [
       "(7775, 35)"
      ]
     },
     "execution_count": 11,
     "metadata": {},
     "output_type": "execute_result"
    }
   ],
   "source": [
    "weather_columns = weather.columns.tolist()\n",
    "weather_matrix = weather.to_numpy()\n",
    "# delete the first day (24feb) as we didn't have report for 23 febr\n",
    "weather_matrix = weather_matrix[24:]   \n",
    "sparse_weather = csr_matrix(weather_matrix)\n",
    "sparse_weather.shape"
   ]
  },
  {
   "cell_type": "markdown",
   "id": "5bcbb928-6b58-4109-afe6-88ab5a395c71",
   "metadata": {},
   "source": [
    "### sparse matrix of words (tf-idf)"
   ]
  },
  {
   "cell_type": "code",
   "execution_count": 12,
   "id": "ed27b74a-27c6-49c4-aba0-bedb7f89b0ef",
   "metadata": {},
   "outputs": [],
   "source": [
    "# remove report for the last day as we move them for one day back\n",
    "lem_text_ser = weather_alarms['lemmatized_text'][:-24]"
   ]
  },
  {
   "cell_type": "code",
   "execution_count": 13,
   "id": "d77308f5-2ae8-41c9-8f51-036099998d71",
   "metadata": {},
   "outputs": [
    {
     "data": {
      "text/plain": [
       "(7775, 6099)"
      ]
     },
     "execution_count": 13,
     "metadata": {},
     "output_type": "execute_result"
    }
   ],
   "source": [
    "# transformation to matrix with all words\n",
    "lemmatized_text_str = lem_text_ser.apply(lambda x: ' '.join(x))\n",
    "# remove words which are less then in three reports\n",
    "tfidf_vectorizer = TfidfVectorizer(min_df=72)\n",
    "tfidf_matrix = tfidf_vectorizer.fit_transform(lemmatized_text_str)\n",
    "words = tfidf_vectorizer.get_feature_names_out()\n",
    "\n",
    "tfidf_matrix.shape    # (7799, 6099)"
   ]
  },
  {
   "cell_type": "code",
   "execution_count": 14,
   "id": "09403bea-a112-43bd-a413-d417d300b7ce",
   "metadata": {},
   "outputs": [
    {
     "data": {
      "text/plain": [
       "(7775, 6134)"
      ]
     },
     "execution_count": 14,
     "metadata": {},
     "output_type": "execute_result"
    }
   ],
   "source": [
    "# merge weather matrix with words matrix\n",
    "combine_matrix = sp.hstack((tfidf_matrix, sparse_weather))\n",
    "# delete alarm for day (24feb) as we didn't have report for 23 febr\n",
    "labels = weather_alarms['alarm'][24:]\n",
    "combine_matrix.shape"
   ]
  },
  {
   "cell_type": "code",
   "execution_count": 15,
   "id": "60b329ad-b58b-4f56-a7ba-e1f2083ba154",
   "metadata": {},
   "outputs": [],
   "source": [
    "all_words = weather_columns.copy()\n",
    "all_words.extend(words)\n",
    "# all_words\n",
    "# for item in all_words:\n",
    "#     print(item)"
   ]
  },
  {
   "cell_type": "markdown",
   "id": "05e71000-c111-468f-b1fb-75642daa4e5e",
   "metadata": {},
   "source": [
    "# Models"
   ]
  },
  {
   "cell_type": "markdown",
   "id": "78319b8f-c81e-47e2-994e-4b35586dada6",
   "metadata": {},
   "source": [
    "## GradientBoostingClassifier"
   ]
  },
  {
   "cell_type": "code",
   "execution_count": null,
   "id": "f94fea1b-38f9-4812-a4ff-1cc52893f0f0",
   "metadata": {},
   "outputs": [],
   "source": [
    "X_train_5, X_test_5, y_train_5, y_test_5 = train_test_split(combine_matrix, labels, test_size=0.20, random_state=42)\n",
    "\n",
    "gb_clf1 = GradientBoostingClassifier(n_estimators=50, learning_rate=0.05, max_depth=3, random_state=42)\n",
    "gb_clf1.fit(X_train_5, y_train_5)\n",
    "y_pred_5 = gb_clf1.predict(X_test_5)\n",
    "y_pred_proba = gb_clf1.predict_proba(X_test_5)\n",
    "\n",
    "for i in range(10):\n",
    "    print(\"Example {}: Prediction: {}, Probability: {}\".format(i+1, y_pred_5[i], y_pred_proba[i]))"
   ]
  },
  {
   "cell_type": "code",
   "execution_count": null,
   "id": "eed9cb06-d560-453c-883b-3593f9127413",
   "metadata": {},
   "outputs": [],
   "source": [
    "print(classification_report(y_test_5, y_pred_5))\n",
    "\n",
    "cm_5 = confusion_matrix(y_test_5, y_pred_5)\n",
    "disp = ConfusionMatrixDisplay(confusion_matrix=cm_5, display_labels=['Not Alarm', 'Alarm'])\n",
    "disp.plot()\n",
    "plt.show()"
   ]
  },
  {
   "cell_type": "code",
   "execution_count": null,
   "id": "9d1dff52-f419-4515-84cf-94ba2656d73a",
   "metadata": {},
   "outputs": [],
   "source": [
    "plt.figure(figsize=(17, 12)) \n",
    "colors = ['#FFAF45', '#FB6D48', '#D74B76', '#673F69']\n",
    "\n",
    "feature_importances = gb_clf1.feature_importances_\n",
    "feature_importances = feature_importances[::-1]\n",
    "top_indices = np.argsort(feature_importances)[::-1][:20]\n",
    "top_importances = feature_importances[top_indices]\n",
    "top_words = [all_words[idx] for idx in top_indices]"
   ]
  },
  {
   "cell_type": "code",
   "execution_count": null,
   "id": "c8238757-ad17-4a01-a5e8-aac385600d44",
   "metadata": {},
   "outputs": [],
   "source": [
    "#plt.subplot(2, 2, i) \n",
    "plt.barh(range(len(top_indices)), top_importances, color=colors)\n",
    "plt.yticks(range(len(top_indices)), top_words)\n",
    "plt.xlabel('Importance')\n",
    "plt.ylabel('Feature Name')\n",
    "plt.title(f'Top 20 Features and Their Importances ({\"GradientBoostingClassifier\"})')\n",
    "plt.gca().invert_yaxis()\n",
    "\n",
    "plt.tight_layout()\n",
    "plt.show()"
   ]
  }
 ],
 "metadata": {
  "kernelspec": {
   "display_name": "Python 3 (ipykernel)",
   "language": "python",
   "name": "python3"
  },
  "language_info": {
   "codemirror_mode": {
    "name": "ipython",
    "version": 3
   },
   "file_extension": ".py",
   "mimetype": "text/x-python",
   "name": "python",
   "nbconvert_exporter": "python",
   "pygments_lexer": "ipython3",
   "version": "3.8.2"
  }
 },
 "nbformat": 4,
 "nbformat_minor": 5
}
