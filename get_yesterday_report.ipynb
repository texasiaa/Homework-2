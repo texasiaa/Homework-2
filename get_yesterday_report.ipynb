{
 "cells": [
  {
   "cell_type": "code",
   "execution_count": 1,
   "id": "1996f07f-cbd3-4cc5-acca-4eb172970701",
   "metadata": {},
   "outputs": [],
   "source": [
    "from bs4 import BeautifulSoup\n",
    "import requests\n",
    "import numpy as np\n",
    "import pandas as pd\n",
    "import calendar\n",
    "import datetime "
   ]
  },
  {
   "cell_type": "code",
   "execution_count": 2,
   "id": "3dc0da18-4c10-4073-ad5d-b291100244f1",
   "metadata": {},
   "outputs": [],
   "source": [
    "# date\n",
    "def get_date(soup):\n",
    "    date_span = soup.find('span', class_='submitted')\n",
    "    date = date_span.find('span').get('content')\n",
    "    date_object = datetime.datetime.strptime(date, '%Y-%m-%dT%H:%M:%S%z')\n",
    "    return date_object.date()"
   ]
  },
  {
   "cell_type": "code",
   "execution_count": 3,
   "id": "6f80e6bc-e0b8-4a3a-8374-c9ef2320a290",
   "metadata": {},
   "outputs": [],
   "source": [
    "# title\n",
    "def get_title(soup):\n",
    "    title_h1 = soup.find('h1', class_='title')\n",
    "    return title_h1.text"
   ]
  },
  {
   "cell_type": "code",
   "execution_count": 4,
   "id": "52983c5f-f6df-45bd-98c7-b86d016f243e",
   "metadata": {},
   "outputs": [],
   "source": [
    "# main_html\n",
    "def get_html(soup):\n",
    "    html_element = soup.find('div', class_='field field-name-body field-type-text-with-summary field-label-hidden')\n",
    "    return html_element\n",
    "\n",
    "def get_html_text(soup):\n",
    "    html_element = get_html(soup)\n",
    "    html_main = html_element.decode() \n",
    "    return html_main"
   ]
  },
  {
   "cell_type": "code",
   "execution_count": 5,
   "id": "89419f7c-c959-4335-9979-76d7635c18ce",
   "metadata": {},
   "outputs": [],
   "source": [
    "# full_url\n",
    "def get_url(soup):\n",
    "    full_url_tag = soup.find(\"link\", rel=\"canonical\")\n",
    "    if full_url_tag:\n",
    "        full_url = full_url_tag.get(\"href\")\n",
    "        return full_url"
   ]
  },
  {
   "cell_type": "code",
   "execution_count": 6,
   "id": "6863bcc7-7875-4667-9e77-e0e3267b258b",
   "metadata": {},
   "outputs": [],
   "source": [
    "# text\n",
    "def get_text(soup):\n",
    "    html_element = get_html(soup)\n",
    "    html_div = html_element.find('div', class_='field-item even')\n",
    "    elements = html_div.find_all(['p', 'ul', 'ol', 'div'])\n",
    "    text = ''\n",
    "    for element in elements:\n",
    "        if element.name == 'div' and element.find('hr'):\n",
    "            break\n",
    "        text += element.text\n",
    "    return text"
   ]
  },
  {
   "cell_type": "code",
   "execution_count": 7,
   "id": "7206af9b-0da1-42e0-8b47-b0f9936e9f04",
   "metadata": {},
   "outputs": [],
   "source": [
    "# data for dataframe\n",
    "def get_data(soup):\n",
    "    data = []\n",
    "    data.append(get_date(soup))\n",
    "    data.append(get_title(soup))\n",
    "    data.append(get_url(soup))\n",
    "    data.append(get_html_text(soup))\n",
    "    data.append(get_text(soup))\n",
    "    return data"
   ]
  },
  {
   "cell_type": "code",
   "execution_count": 8,
   "id": "8ee4bfcc-da0f-48b3-aa2e-01c716ac5d05",
   "metadata": {},
   "outputs": [],
   "source": [
    "# url for request\n",
    "def build_url(days_to_substract):\n",
    "    today = datetime.datetime.today() - datetime.timedelta(days=days_to_substract)\n",
    "    month_name = calendar.month_name[today.month].lower()\n",
    "    url = f'https://www.understandingwar.org/backgrounder/russian-offensive-campaign-assessment-{month_name}-{today.day}-{today.year}'\n",
    "    return url"
   ]
  },
  {
   "cell_type": "code",
   "execution_count": 9,
   "id": "46ab9c36-d935-408f-9ff7-06cc314ce393",
   "metadata": {},
   "outputs": [],
   "source": [
    "# dataframe\n",
    "def get_dataframe():\n",
    "    df = pd.DataFrame(columns=['date', 'title', 'full_url', 'main_html', 'main_text'])\n",
    "    days_to_substract = 0\n",
    "    while True:\n",
    "        days_to_substract += 1\n",
    "        url = build_url(days_to_substract)\n",
    "        answer = requests.get(url)\n",
    "        if not answer.status_code == 200: \n",
    "            continue\n",
    "        html_text = answer.text     \n",
    "        soup = BeautifulSoup(html_text, 'lxml')\n",
    "        df.loc[0] = get_data(soup)\n",
    "        return df"
   ]
  },
  {
   "cell_type": "code",
   "execution_count": 10,
   "id": "ad5ad07c-aac8-4bb7-8e79-fa16c673ffd4",
   "metadata": {},
   "outputs": [
    {
     "data": {
      "text/html": [
       "<div>\n",
       "<style scoped>\n",
       "    .dataframe tbody tr th:only-of-type {\n",
       "        vertical-align: middle;\n",
       "    }\n",
       "\n",
       "    .dataframe tbody tr th {\n",
       "        vertical-align: top;\n",
       "    }\n",
       "\n",
       "    .dataframe thead th {\n",
       "        text-align: right;\n",
       "    }\n",
       "</style>\n",
       "<table border=\"1\" class=\"dataframe\">\n",
       "  <thead>\n",
       "    <tr style=\"text-align: right;\">\n",
       "      <th></th>\n",
       "      <th>date</th>\n",
       "      <th>title</th>\n",
       "      <th>full_url</th>\n",
       "      <th>main_html</th>\n",
       "      <th>main_text</th>\n",
       "    </tr>\n",
       "  </thead>\n",
       "  <tbody>\n",
       "    <tr>\n",
       "      <th>0</th>\n",
       "      <td>2024-02-29</td>\n",
       "      <td>Russian Offensive Campaign Assessment, Februar...</td>\n",
       "      <td>/backgrounder/russian-offensive-campaign-asses...</td>\n",
       "      <td>&lt;div class=\"field field-name-body field-type-t...</td>\n",
       "      <td>Russian Offensive Campaign Assessment, Februar...</td>\n",
       "    </tr>\n",
       "  </tbody>\n",
       "</table>\n",
       "</div>"
      ],
      "text/plain": [
       "         date                                              title  \\\n",
       "0  2024-02-29  Russian Offensive Campaign Assessment, Februar...   \n",
       "\n",
       "                                            full_url  \\\n",
       "0  /backgrounder/russian-offensive-campaign-asses...   \n",
       "\n",
       "                                           main_html  \\\n",
       "0  <div class=\"field field-name-body field-type-t...   \n",
       "\n",
       "                                           main_text  \n",
       "0  Russian Offensive Campaign Assessment, Februar...  "
      ]
     },
     "execution_count": 10,
     "metadata": {},
     "output_type": "execute_result"
    }
   ],
   "source": [
    "data_frame = get_dataframe()\n",
    "data_frame"
   ]
  },
  {
   "cell_type": "code",
   "execution_count": 12,
   "id": "04c7378b-2aec-4c84-af64-5ba46a4bb563",
   "metadata": {},
   "outputs": [],
   "source": [
    "# to save dataframe as csv file\n",
    "# data_frame.to_csv('yesterday_data.csv', index=False)"
   ]
  }
 ],
 "metadata": {
  "kernelspec": {
   "display_name": "Python 3 (ipykernel)",
   "language": "python",
   "name": "python3"
  },
  "language_info": {
   "codemirror_mode": {
    "name": "ipython",
    "version": 3
   },
   "file_extension": ".py",
   "mimetype": "text/x-python",
   "name": "python",
   "nbconvert_exporter": "python",
   "pygments_lexer": "ipython3",
   "version": "3.8.0"
  }
 },
 "nbformat": 4,
 "nbformat_minor": 5
}
