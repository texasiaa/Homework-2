{
 "cells": [
  {
   "cell_type": "code",
   "execution_count": 59,
   "id": "1996f07f-cbd3-4cc5-acca-4eb172970701",
   "metadata": {},
   "outputs": [],
   "source": [
    "from bs4 import BeautifulSoup\n",
    "import requests\n",
    "import numpy as np\n",
    "import pandas as pd\n",
    "import calendar\n",
    "import datetime "
   ]
  },
  {
   "cell_type": "code",
   "execution_count": 98,
   "id": "3dc0da18-4c10-4073-ad5d-b291100244f1",
   "metadata": {},
   "outputs": [],
   "source": [
    "# date\n",
    "def get_date(soup):\n",
    "    date_span = soup.find('span', class_='submitted')\n",
    "    date = date_span.find('span').get('content')\n",
    "    date_object = datetime.datetime.strptime(date, '%Y-%m-%dT%H:%M:%S%z')\n",
    "    return date_object.date()"
   ]
  },
  {
   "cell_type": "code",
   "execution_count": 85,
   "id": "6f80e6bc-e0b8-4a3a-8374-c9ef2320a290",
   "metadata": {},
   "outputs": [],
   "source": [
    "# title\n",
    "def get_title(soup):\n",
    "    title_h1 = soup.find('h1', class_='title')\n",
    "    return title_h1.text"
   ]
  },
  {
   "cell_type": "code",
   "execution_count": 86,
   "id": "52983c5f-f6df-45bd-98c7-b86d016f243e",
   "metadata": {},
   "outputs": [],
   "source": [
    "# main_html\n",
    "def get_html(soup):\n",
    "    html_element = soup.find('div', class_='field field-name-body field-type-text-with-summary field-label-hidden')\n",
    "    return html_element\n",
    "\n",
    "def get_html_text(soup):\n",
    "    html_element = get_html(soup)\n",
    "    html_main = html_element.decode() \n",
    "    return html_main"
   ]
  },
  {
   "cell_type": "code",
   "execution_count": 87,
   "id": "89419f7c-c959-4335-9979-76d7635c18ce",
   "metadata": {},
   "outputs": [],
   "source": [
    "# full_url\n",
    "def get_url(soup):\n",
    "    full_url_tag = soup.find(\"link\", rel=\"canonical\")\n",
    "    if full_url_tag:\n",
    "        full_url = full_url_tag.get(\"href\")\n",
    "        return full_url"
   ]
  },
  {
   "cell_type": "code",
   "execution_count": 88,
   "id": "6863bcc7-7875-4667-9e77-e0e3267b258b",
   "metadata": {},
   "outputs": [],
   "source": [
    "# text\n",
    "def get_text(soup):\n",
    "    html_element = get_html(soup)\n",
    "    html_div = html_element.find('div', class_='field-item even')\n",
    "    elements = html_div.find_all(['p', 'ul', 'ol', 'div'])\n",
    "    text = ''\n",
    "    for element in elements:\n",
    "        if element.name == 'div' and element.find('hr'):\n",
    "            break\n",
    "        text += element.text\n",
    "    return text"
   ]
  },
  {
   "cell_type": "code",
   "execution_count": 89,
   "id": "7206af9b-0da1-42e0-8b47-b0f9936e9f04",
   "metadata": {},
   "outputs": [],
   "source": [
    "# data for dataframe\n",
    "def get_data(soup):\n",
    "    data = []\n",
    "    data.append(get_date(soup))\n",
    "    data.append(get_title(soup))\n",
    "    data.append(get_url(soup))\n",
    "    data.append(get_html_text(soup))\n",
    "    data.append(get_text(soup))\n",
    "    return data"
   ]
  },
  {
   "cell_type": "code",
   "execution_count": 90,
   "id": "8ee4bfcc-da0f-48b3-aa2e-01c716ac5d05",
   "metadata": {},
   "outputs": [],
   "source": [
    "# url for request\n",
    "def build_url(current_date):\n",
    "    month_name = calendar.month_name[current_date.month].lower()\n",
    "    if 26 <= current_date.day <= 27 and current_date.month == 2 and current_date.year == 2022:\n",
    "        url = f'https://www.understandingwar.org/backgrounder/russia-ukraine-warning-update-russian-offensive-campaign-assessment-{month_name}-{current_date.day}'\n",
    "    elif current_date.day == 28 and current_date.month == 2 and current_date.year == 2022:\n",
    "        url = f'https://www.understandingwar.org/backgrounder/russian-offensive-campaign-assessment-{month_name}-{current_date.day}-{current_date.year}'        \n",
    "    elif current_date.day == 24 and current_date.month == 2 and current_date.year == 2022:\n",
    "        url = f'https://www.understandingwar.org/backgrounder/russia-ukraine-warning-update-initial-russian-offensive-campaign-assessment'        \n",
    "    elif current_date.day == 25 and current_date.month == 2 and current_date.year == 2022:\n",
    "        url = f'https://www.understandingwar.org/backgrounder/russia-ukraine-warning-update-russian-offensive-campaign-assessment-{month_name}-{current_date.day}-{current_date.year}'                 \n",
    "    elif current_date.year == 2022:\n",
    "        url = f'https://www.understandingwar.org/backgrounder/russian-offensive-campaign-assessment-{month_name}-{current_date.day}'\n",
    "    else:\n",
    "        url = f'https://www.understandingwar.org/backgrounder/russian-offensive-campaign-assessment-{month_name}-{current_date.day}-2023' \n",
    "    return url"
   ]
  },
  {
   "cell_type": "code",
   "execution_count": 91,
   "id": "46ab9c36-d935-408f-9ff7-06cc314ce393",
   "metadata": {},
   "outputs": [],
   "source": [
    "# dataframe\n",
    "def get_dataframe(start_date, end_date):\n",
    "    df = pd.DataFrame(columns=['date', 'title', 'full_url', 'main_html', 'main_text'])\n",
    "    current_date = start_date\n",
    "    i = 0\n",
    "    while current_date <= end_date:\n",
    "        url = build_url(current_date)\n",
    "        answer = requests.get(url)\n",
    "        if not answer.status_code == 200: \n",
    "            current_date += datetime.timedelta(days=1)\n",
    "            continue\n",
    "        html_text = answer.text     \n",
    "        soup = BeautifulSoup(html_text, 'lxml')\n",
    "        df.loc[i] = get_data(soup)\n",
    "        i += 1\n",
    "        current_date += datetime.timedelta(days=1)\n",
    "    return df"
   ]
  },
  {
   "cell_type": "code",
   "execution_count": 101,
   "id": "ad5ad07c-aac8-4bb7-8e79-fa16c673ffd4",
   "metadata": {},
   "outputs": [
    {
     "data": {
      "text/html": [
       "<div>\n",
       "<style scoped>\n",
       "    .dataframe tbody tr th:only-of-type {\n",
       "        vertical-align: middle;\n",
       "    }\n",
       "\n",
       "    .dataframe tbody tr th {\n",
       "        vertical-align: top;\n",
       "    }\n",
       "\n",
       "    .dataframe thead th {\n",
       "        text-align: right;\n",
       "    }\n",
       "</style>\n",
       "<table border=\"1\" class=\"dataframe\">\n",
       "  <thead>\n",
       "    <tr style=\"text-align: right;\">\n",
       "      <th></th>\n",
       "      <th>date</th>\n",
       "      <th>title</th>\n",
       "      <th>full_url</th>\n",
       "      <th>main_html</th>\n",
       "      <th>main_text</th>\n",
       "    </tr>\n",
       "  </thead>\n",
       "  <tbody>\n",
       "    <tr>\n",
       "      <th>0</th>\n",
       "      <td>2022-02-24</td>\n",
       "      <td>Russia-Ukraine Warning Update: Initial Russian...</td>\n",
       "      <td>/backgrounder/russia-ukraine-warning-update-in...</td>\n",
       "      <td>&lt;div class=\"field field-name-body field-type-t...</td>\n",
       "      <td>Mason Clark, George Barros, and Kateryna Step...</td>\n",
       "    </tr>\n",
       "    <tr>\n",
       "      <th>1</th>\n",
       "      <td>2022-02-25</td>\n",
       "      <td>Russia-Ukraine Warning Update: Russian Offensi...</td>\n",
       "      <td>/backgrounder/russia-ukraine-warning-update-ru...</td>\n",
       "      <td>&lt;div class=\"field field-name-body field-type-t...</td>\n",
       "      <td>Mason Clark, George Barros, and Kateryna Stepa...</td>\n",
       "    </tr>\n",
       "    <tr>\n",
       "      <th>2</th>\n",
       "      <td>2022-02-26</td>\n",
       "      <td>Russia-Ukraine Warning Update: Russian Offensi...</td>\n",
       "      <td>/backgrounder/russia-ukraine-warning-update-ru...</td>\n",
       "      <td>&lt;div class=\"field field-name-body field-type-t...</td>\n",
       "      <td>Mason Clark, George Barros, and Katya Stepanen...</td>\n",
       "    </tr>\n",
       "  </tbody>\n",
       "</table>\n",
       "</div>"
      ],
      "text/plain": [
       "         date                                              title  \\\n",
       "0  2022-02-24  Russia-Ukraine Warning Update: Initial Russian...   \n",
       "1  2022-02-25  Russia-Ukraine Warning Update: Russian Offensi...   \n",
       "2  2022-02-26  Russia-Ukraine Warning Update: Russian Offensi...   \n",
       "\n",
       "                                            full_url  \\\n",
       "0  /backgrounder/russia-ukraine-warning-update-in...   \n",
       "1  /backgrounder/russia-ukraine-warning-update-ru...   \n",
       "2  /backgrounder/russia-ukraine-warning-update-ru...   \n",
       "\n",
       "                                           main_html  \\\n",
       "0  <div class=\"field field-name-body field-type-t...   \n",
       "1  <div class=\"field field-name-body field-type-t...   \n",
       "2  <div class=\"field field-name-body field-type-t...   \n",
       "\n",
       "                                           main_text  \n",
       "0   Mason Clark, George Barros, and Kateryna Step...  \n",
       "1  Mason Clark, George Barros, and Kateryna Stepa...  \n",
       "2  Mason Clark, George Barros, and Katya Stepanen...  "
      ]
     },
     "execution_count": 101,
     "metadata": {},
     "output_type": "execute_result"
    }
   ],
   "source": [
    "start_date = datetime.date(2022, 2, 24)\n",
    "end_date = datetime.date(2023, 1, 25)\n",
    "data_frame = get_dataframe(start_date, end_date)\n",
    "data_frame.head(3)"
   ]
  },
  {
   "cell_type": "code",
   "execution_count": 103,
   "id": "6fbf8984-ffc1-4873-b5b4-ed7ecf9e069d",
   "metadata": {},
   "outputs": [],
   "source": [
    "# to save dataframe as csv file\n",
    "#data_frame.to_csv('data.csv1', index=False)"
   ]
  }
 ],
 "metadata": {
  "kernelspec": {
   "display_name": "Python 3 (ipykernel)",
   "language": "python",
   "name": "python3"
  },
  "language_info": {
   "codemirror_mode": {
    "name": "ipython",
    "version": 3
   },
   "file_extension": ".py",
   "mimetype": "text/x-python",
   "name": "python",
   "nbconvert_exporter": "python",
   "pygments_lexer": "ipython3",
   "version": "3.8.0"
  }
 },
 "nbformat": 4,
 "nbformat_minor": 5
}
